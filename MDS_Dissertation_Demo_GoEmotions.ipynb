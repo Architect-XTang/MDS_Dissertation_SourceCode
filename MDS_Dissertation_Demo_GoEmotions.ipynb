{
 "cells": [
  {
   "cell_type": "code",
   "execution_count": null,
   "id": "initial_id",
   "metadata": {
    "collapsed": true
   },
   "outputs": [],
   "source": [
    "from transformers import AutoTokenizer, AutoModelForSequenceClassification\n",
    "import torch\n",
    "import torch.nn.functional as F\n"
   ]
  },
  {
   "metadata": {},
   "cell_type": "code",
   "outputs": [],
   "execution_count": null,
   "source": [
    "model_name = \"monologg/bert-base-cased-goemotions-original\"\n",
    "tokenizer = AutoTokenizer.from_pretrained(model_name)\n",
    "model = AutoModelForSequenceClassification.from_pretrained(model_name)"
   ],
   "id": "70bbe3b72611c888"
  },
  {
   "metadata": {},
   "cell_type": "code",
   "outputs": [],
   "execution_count": null,
   "source": [
    "emotion_labels = [\n",
    "    'admiration', 'amusement', 'anger', 'annoyance', 'approval',\n",
    "    'caring', 'confusion', 'curiosity', 'desire', 'disappointment',\n",
    "    'disapproval', 'disgust', 'embarrassment', 'excitement', 'fear',\n",
    "    'gratitude', 'grief', 'joy', 'love', 'nervousness', 'optimism',\n",
    "    'pride', 'realization', 'relief', 'remorse', 'sadness', 'surprise', 'neutral'\n",
    "]"
   ],
   "id": "5797f14c57ebb083"
  },
  {
   "metadata": {},
   "cell_type": "code",
   "outputs": [],
   "execution_count": null,
   "source": [
    "#\n",
    "import pickle\n",
    "import time\n",
    "#\n",
    "with open(\"pv_filtered.pkl\", \"rb\") as f:\n",
    "    pv_dict = pickle.load(f)\n",
    "    texts = [pv_dict[key] for key in pv_dict.keys()]"
   ],
   "id": "531e58d488dac301"
  },
  {
   "metadata": {},
   "cell_type": "code",
   "outputs": [],
   "execution_count": null,
   "source": [
    "device = torch.device(\"cuda\" if torch.cuda.is_available() else \"cpu\")\n",
    "target_dict = pv_dict\n",
    "\n",
    "result = {k: None for k in target_dict.keys()}\n",
    "with torch.no_grad():\n",
    "    for key in target_dict.keys():\n",
    "        value = target_dict[key]\n",
    "        inputs = tokenizer(value, return_tensors=\"pt\", truncation=True, padding=True)\n",
    "        inputs = {k: v.to(device) for k, v in inputs.items()}\n",
    "        try:\n",
    "            outputs = model(**inputs)\n",
    "            logits = outputs.logits\n",
    "            probs = torch.sigmoid(logits)[0].cpu().numpy()\n",
    "            result[key] = probs\n",
    "        except Exception as e:\n",
    "            print(e)\n",
    "\n",
    "with open(\"pv_goemotions.pkl\", \"wb\") as f:\n",
    "    pickle.dump(result, f)"
   ],
   "id": "6f9f23e3afb7c24c"
  }
 ],
 "metadata": {
  "kernelspec": {
   "display_name": "Python 3",
   "language": "python",
   "name": "python3"
  },
  "language_info": {
   "codemirror_mode": {
    "name": "ipython",
    "version": 2
   },
   "file_extension": ".py",
   "mimetype": "text/x-python",
   "name": "python",
   "nbconvert_exporter": "python",
   "pygments_lexer": "ipython2",
   "version": "2.7.6"
  }
 },
 "nbformat": 4,
 "nbformat_minor": 5
}
